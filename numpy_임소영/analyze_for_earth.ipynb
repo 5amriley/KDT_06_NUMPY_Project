{
 "cells": [
  {
   "cell_type": "code",
   "outputs": [],
   "source": [
    "import pandas as pd\n",
    "import numpy as np\n",
    "import matplotlib.pyplot as plt\n",
    "import koreanize_matplotlib"
   ],
   "metadata": {
    "collapsed": false,
    "ExecuteTime": {
     "end_time": "2024-02-22T05:14:33.378559800Z",
     "start_time": "2024-02-22T05:14:33.367760200Z"
    }
   },
   "id": "initial_id",
   "execution_count": 61
  },
  {
   "cell_type": "code",
   "outputs": [
    {
     "data": {
      "text/plain": "[2008, 2009, 2010, 2011, 2012, 2013, 2014, 2015, 2016, 2017, 2018]"
     },
     "execution_count": 62,
     "metadata": {},
     "output_type": "execute_result"
    }
   ],
   "source": [
    "year_list = []\n",
    "for i in range(2008, 2019):\n",
    "    year_list.append(i)\n",
    "year_list"
   ],
   "metadata": {
    "collapsed": false,
    "ExecuteTime": {
     "end_time": "2024-02-22T05:14:33.379558Z",
     "start_time": "2024-02-22T05:14:33.371317600Z"
    }
   },
   "id": "79c3f20d44e66aa6",
   "execution_count": 62
  },
  {
   "cell_type": "code",
   "outputs": [
    {
     "data": {
      "text/plain": "        2008       2009       2010       2011       2012       2013  \\\n0                                                                     \nA   72000.58   71999.08   71999.67   71996.25   72000.33   72001.08   \nB   96001.00   96000.67   95999.25   96000.17   96000.33   96000.92   \nC  575998.50  576000.83  576001.25  576002.58  575999.83  575998.92   \nD   24000.17   24000.08   23999.92   23999.83   24000.17   24000.17   \nE   96001.00   95999.50   96001.50   96001.67   95999.00   96000.58   \nF   48000.25   48000.33   47999.42   47999.17   47999.75   47999.25   \nG   72000.17   71999.83   71999.58   72000.50   72000.17   71998.58   \nH   96001.17   95998.92   96001.67   95999.67   96000.08   96000.25   \nI   47999.67   47999.42   47999.50   48000.08   47999.00   48000.08   \nJ  143998.92  143998.83  143999.17  143999.42  143998.67  143999.25   \nK   72000.83   72000.67   72000.50   72000.25   71999.25   72000.33   \nL   24001.00   24000.25   24000.17   23999.67   24000.67   23999.67   \nN   24000.75   24000.75   23999.42   24000.33   23999.25   23999.67   \n\n        2014       2015       2016       2017       2018  \n0                                                         \nA   71999.50   71999.58   72000.08   73088.08   71998.92  \nB   96000.92   96001.00   95999.92  102087.58   96009.75  \nC  575993.42  575999.00  576000.00  589550.25  576079.00  \nD   23999.92   24000.00   24000.25   24287.17   23999.58  \nE   96000.75   96001.25   96001.50   97094.33   96002.75  \nF   47999.58   48000.17   48000.33   49584.25   48001.58  \nG   71999.58   71999.83   72000.75   78065.83   72005.42  \nH   95999.75   95999.25   96000.25  101407.42   96005.58  \nI   48000.75   47999.75   48007.83   50141.00   47996.08  \nJ  144000.25  144000.33  144000.67  147157.75  143999.33  \nK   72000.83   71999.17   71999.92   76191.17   72003.08  \nL   23999.50   23999.17   24005.58   25654.17   24000.25  \nN   24000.42   24000.83   24000.17   26806.50   23995.42  ",
      "text/html": "<div>\n<style scoped>\n    .dataframe tbody tr th:only-of-type {\n        vertical-align: middle;\n    }\n\n    .dataframe tbody tr th {\n        vertical-align: top;\n    }\n\n    .dataframe thead th {\n        text-align: right;\n    }\n</style>\n<table border=\"1\" class=\"dataframe\">\n  <thead>\n    <tr style=\"text-align: right;\">\n      <th></th>\n      <th>2008</th>\n      <th>2009</th>\n      <th>2010</th>\n      <th>2011</th>\n      <th>2012</th>\n      <th>2013</th>\n      <th>2014</th>\n      <th>2015</th>\n      <th>2016</th>\n      <th>2017</th>\n      <th>2018</th>\n    </tr>\n    <tr>\n      <th>0</th>\n      <th></th>\n      <th></th>\n      <th></th>\n      <th></th>\n      <th></th>\n      <th></th>\n      <th></th>\n      <th></th>\n      <th></th>\n      <th></th>\n      <th></th>\n    </tr>\n  </thead>\n  <tbody>\n    <tr>\n      <th>A</th>\n      <td>72000.58</td>\n      <td>71999.08</td>\n      <td>71999.67</td>\n      <td>71996.25</td>\n      <td>72000.33</td>\n      <td>72001.08</td>\n      <td>71999.50</td>\n      <td>71999.58</td>\n      <td>72000.08</td>\n      <td>73088.08</td>\n      <td>71998.92</td>\n    </tr>\n    <tr>\n      <th>B</th>\n      <td>96001.00</td>\n      <td>96000.67</td>\n      <td>95999.25</td>\n      <td>96000.17</td>\n      <td>96000.33</td>\n      <td>96000.92</td>\n      <td>96000.92</td>\n      <td>96001.00</td>\n      <td>95999.92</td>\n      <td>102087.58</td>\n      <td>96009.75</td>\n    </tr>\n    <tr>\n      <th>C</th>\n      <td>575998.50</td>\n      <td>576000.83</td>\n      <td>576001.25</td>\n      <td>576002.58</td>\n      <td>575999.83</td>\n      <td>575998.92</td>\n      <td>575993.42</td>\n      <td>575999.00</td>\n      <td>576000.00</td>\n      <td>589550.25</td>\n      <td>576079.00</td>\n    </tr>\n    <tr>\n      <th>D</th>\n      <td>24000.17</td>\n      <td>24000.08</td>\n      <td>23999.92</td>\n      <td>23999.83</td>\n      <td>24000.17</td>\n      <td>24000.17</td>\n      <td>23999.92</td>\n      <td>24000.00</td>\n      <td>24000.25</td>\n      <td>24287.17</td>\n      <td>23999.58</td>\n    </tr>\n    <tr>\n      <th>E</th>\n      <td>96001.00</td>\n      <td>95999.50</td>\n      <td>96001.50</td>\n      <td>96001.67</td>\n      <td>95999.00</td>\n      <td>96000.58</td>\n      <td>96000.75</td>\n      <td>96001.25</td>\n      <td>96001.50</td>\n      <td>97094.33</td>\n      <td>96002.75</td>\n    </tr>\n    <tr>\n      <th>F</th>\n      <td>48000.25</td>\n      <td>48000.33</td>\n      <td>47999.42</td>\n      <td>47999.17</td>\n      <td>47999.75</td>\n      <td>47999.25</td>\n      <td>47999.58</td>\n      <td>48000.17</td>\n      <td>48000.33</td>\n      <td>49584.25</td>\n      <td>48001.58</td>\n    </tr>\n    <tr>\n      <th>G</th>\n      <td>72000.17</td>\n      <td>71999.83</td>\n      <td>71999.58</td>\n      <td>72000.50</td>\n      <td>72000.17</td>\n      <td>71998.58</td>\n      <td>71999.58</td>\n      <td>71999.83</td>\n      <td>72000.75</td>\n      <td>78065.83</td>\n      <td>72005.42</td>\n    </tr>\n    <tr>\n      <th>H</th>\n      <td>96001.17</td>\n      <td>95998.92</td>\n      <td>96001.67</td>\n      <td>95999.67</td>\n      <td>96000.08</td>\n      <td>96000.25</td>\n      <td>95999.75</td>\n      <td>95999.25</td>\n      <td>96000.25</td>\n      <td>101407.42</td>\n      <td>96005.58</td>\n    </tr>\n    <tr>\n      <th>I</th>\n      <td>47999.67</td>\n      <td>47999.42</td>\n      <td>47999.50</td>\n      <td>48000.08</td>\n      <td>47999.00</td>\n      <td>48000.08</td>\n      <td>48000.75</td>\n      <td>47999.75</td>\n      <td>48007.83</td>\n      <td>50141.00</td>\n      <td>47996.08</td>\n    </tr>\n    <tr>\n      <th>J</th>\n      <td>143998.92</td>\n      <td>143998.83</td>\n      <td>143999.17</td>\n      <td>143999.42</td>\n      <td>143998.67</td>\n      <td>143999.25</td>\n      <td>144000.25</td>\n      <td>144000.33</td>\n      <td>144000.67</td>\n      <td>147157.75</td>\n      <td>143999.33</td>\n    </tr>\n    <tr>\n      <th>K</th>\n      <td>72000.83</td>\n      <td>72000.67</td>\n      <td>72000.50</td>\n      <td>72000.25</td>\n      <td>71999.25</td>\n      <td>72000.33</td>\n      <td>72000.83</td>\n      <td>71999.17</td>\n      <td>71999.92</td>\n      <td>76191.17</td>\n      <td>72003.08</td>\n    </tr>\n    <tr>\n      <th>L</th>\n      <td>24001.00</td>\n      <td>24000.25</td>\n      <td>24000.17</td>\n      <td>23999.67</td>\n      <td>24000.67</td>\n      <td>23999.67</td>\n      <td>23999.50</td>\n      <td>23999.17</td>\n      <td>24005.58</td>\n      <td>25654.17</td>\n      <td>24000.25</td>\n    </tr>\n    <tr>\n      <th>N</th>\n      <td>24000.75</td>\n      <td>24000.75</td>\n      <td>23999.42</td>\n      <td>24000.33</td>\n      <td>23999.25</td>\n      <td>23999.67</td>\n      <td>24000.42</td>\n      <td>24000.83</td>\n      <td>24000.17</td>\n      <td>26806.50</td>\n      <td>23995.42</td>\n    </tr>\n  </tbody>\n</table>\n</div>"
     },
     "execution_count": 63,
     "metadata": {},
     "output_type": "execute_result"
    }
   ],
   "source": [
    "file = 'avg_year_industry.csv'\n",
    "#data = pd.read_csv(file, header=None)\n",
    "data = pd.read_csv(file, header=None, index_col=[0])\n",
    "\n",
    "data.columns = year_list\n",
    "data"
   ],
   "metadata": {
    "collapsed": false,
    "ExecuteTime": {
     "end_time": "2024-02-22T05:14:33.425826700Z",
     "start_time": "2024-02-22T05:14:33.376487700Z"
    }
   },
   "id": "6769a709afc2c3fb",
   "execution_count": 63
  },
  {
   "cell_type": "code",
   "outputs": [],
   "source": [
    "data.loc['year'] = [13.87, 13.89, 13.51, 13.27, 13.27, 13.83, 14.09, 14.36, 14.43, 13.94, 13.86]"
   ],
   "metadata": {
    "collapsed": false,
    "ExecuteTime": {
     "end_time": "2024-02-22T05:15:49.941707600Z",
     "start_time": "2024-02-22T05:15:49.923535600Z"
    }
   },
   "id": "3beaff125c486c7d",
   "execution_count": 66
  },
  {
   "cell_type": "code",
   "outputs": [
    {
     "data": {
      "text/plain": "0            A          B          C         D         E         F         G  \\\n2008  72000.58   96001.00  575998.50  24000.17  96001.00  48000.25  72000.17   \n2009  71999.08   96000.67  576000.83  24000.08  95999.50  48000.33  71999.83   \n2010  71999.67   95999.25  576001.25  23999.92  96001.50  47999.42  71999.58   \n2011  71996.25   96000.17  576002.58  23999.83  96001.67  47999.17  72000.50   \n2012  72000.33   96000.33  575999.83  24000.17  95999.00  47999.75  72000.17   \n2013  72001.08   96000.92  575998.92  24000.17  96000.58  47999.25  71998.58   \n2014  71999.50   96000.92  575993.42  23999.92  96000.75  47999.58  71999.58   \n2015  71999.58   96001.00  575999.00  24000.00  96001.25  48000.17  71999.83   \n2016  72000.08   95999.92  576000.00  24000.25  96001.50  48000.33  72000.75   \n2017  73088.08  102087.58  589550.25  24287.17  97094.33  49584.25  78065.83   \n2018  71998.92   96009.75  576079.00  23999.58  96002.75  48001.58  72005.42   \n\n0             H         I          J         K         L         N   year  \n2008   96001.17  47999.67  143998.92  72000.83  24001.00  24000.75  13.87  \n2009   95998.92  47999.42  143998.83  72000.67  24000.25  24000.75  13.89  \n2010   96001.67  47999.50  143999.17  72000.50  24000.17  23999.42  13.51  \n2011   95999.67  48000.08  143999.42  72000.25  23999.67  24000.33  13.27  \n2012   96000.08  47999.00  143998.67  71999.25  24000.67  23999.25  13.27  \n2013   96000.25  48000.08  143999.25  72000.33  23999.67  23999.67  13.83  \n2014   95999.75  48000.75  144000.25  72000.83  23999.50  24000.42  14.09  \n2015   95999.25  47999.75  144000.33  71999.17  23999.17  24000.83  14.36  \n2016   96000.25  48007.83  144000.67  71999.92  24005.58  24000.17  14.43  \n2017  101407.42  50141.00  147157.75  76191.17  25654.17  26806.50  13.94  \n2018   96005.58  47996.08  143999.33  72003.08  24000.25  23995.42  13.86  ",
      "text/html": "<div>\n<style scoped>\n    .dataframe tbody tr th:only-of-type {\n        vertical-align: middle;\n    }\n\n    .dataframe tbody tr th {\n        vertical-align: top;\n    }\n\n    .dataframe thead th {\n        text-align: right;\n    }\n</style>\n<table border=\"1\" class=\"dataframe\">\n  <thead>\n    <tr style=\"text-align: right;\">\n      <th></th>\n      <th>A</th>\n      <th>B</th>\n      <th>C</th>\n      <th>D</th>\n      <th>E</th>\n      <th>F</th>\n      <th>G</th>\n      <th>H</th>\n      <th>I</th>\n      <th>J</th>\n      <th>K</th>\n      <th>L</th>\n      <th>N</th>\n      <th>year</th>\n    </tr>\n  </thead>\n  <tbody>\n    <tr>\n      <th>2008</th>\n      <td>72000.58</td>\n      <td>96001.00</td>\n      <td>575998.50</td>\n      <td>24000.17</td>\n      <td>96001.00</td>\n      <td>48000.25</td>\n      <td>72000.17</td>\n      <td>96001.17</td>\n      <td>47999.67</td>\n      <td>143998.92</td>\n      <td>72000.83</td>\n      <td>24001.00</td>\n      <td>24000.75</td>\n      <td>13.87</td>\n    </tr>\n    <tr>\n      <th>2009</th>\n      <td>71999.08</td>\n      <td>96000.67</td>\n      <td>576000.83</td>\n      <td>24000.08</td>\n      <td>95999.50</td>\n      <td>48000.33</td>\n      <td>71999.83</td>\n      <td>95998.92</td>\n      <td>47999.42</td>\n      <td>143998.83</td>\n      <td>72000.67</td>\n      <td>24000.25</td>\n      <td>24000.75</td>\n      <td>13.89</td>\n    </tr>\n    <tr>\n      <th>2010</th>\n      <td>71999.67</td>\n      <td>95999.25</td>\n      <td>576001.25</td>\n      <td>23999.92</td>\n      <td>96001.50</td>\n      <td>47999.42</td>\n      <td>71999.58</td>\n      <td>96001.67</td>\n      <td>47999.50</td>\n      <td>143999.17</td>\n      <td>72000.50</td>\n      <td>24000.17</td>\n      <td>23999.42</td>\n      <td>13.51</td>\n    </tr>\n    <tr>\n      <th>2011</th>\n      <td>71996.25</td>\n      <td>96000.17</td>\n      <td>576002.58</td>\n      <td>23999.83</td>\n      <td>96001.67</td>\n      <td>47999.17</td>\n      <td>72000.50</td>\n      <td>95999.67</td>\n      <td>48000.08</td>\n      <td>143999.42</td>\n      <td>72000.25</td>\n      <td>23999.67</td>\n      <td>24000.33</td>\n      <td>13.27</td>\n    </tr>\n    <tr>\n      <th>2012</th>\n      <td>72000.33</td>\n      <td>96000.33</td>\n      <td>575999.83</td>\n      <td>24000.17</td>\n      <td>95999.00</td>\n      <td>47999.75</td>\n      <td>72000.17</td>\n      <td>96000.08</td>\n      <td>47999.00</td>\n      <td>143998.67</td>\n      <td>71999.25</td>\n      <td>24000.67</td>\n      <td>23999.25</td>\n      <td>13.27</td>\n    </tr>\n    <tr>\n      <th>2013</th>\n      <td>72001.08</td>\n      <td>96000.92</td>\n      <td>575998.92</td>\n      <td>24000.17</td>\n      <td>96000.58</td>\n      <td>47999.25</td>\n      <td>71998.58</td>\n      <td>96000.25</td>\n      <td>48000.08</td>\n      <td>143999.25</td>\n      <td>72000.33</td>\n      <td>23999.67</td>\n      <td>23999.67</td>\n      <td>13.83</td>\n    </tr>\n    <tr>\n      <th>2014</th>\n      <td>71999.50</td>\n      <td>96000.92</td>\n      <td>575993.42</td>\n      <td>23999.92</td>\n      <td>96000.75</td>\n      <td>47999.58</td>\n      <td>71999.58</td>\n      <td>95999.75</td>\n      <td>48000.75</td>\n      <td>144000.25</td>\n      <td>72000.83</td>\n      <td>23999.50</td>\n      <td>24000.42</td>\n      <td>14.09</td>\n    </tr>\n    <tr>\n      <th>2015</th>\n      <td>71999.58</td>\n      <td>96001.00</td>\n      <td>575999.00</td>\n      <td>24000.00</td>\n      <td>96001.25</td>\n      <td>48000.17</td>\n      <td>71999.83</td>\n      <td>95999.25</td>\n      <td>47999.75</td>\n      <td>144000.33</td>\n      <td>71999.17</td>\n      <td>23999.17</td>\n      <td>24000.83</td>\n      <td>14.36</td>\n    </tr>\n    <tr>\n      <th>2016</th>\n      <td>72000.08</td>\n      <td>95999.92</td>\n      <td>576000.00</td>\n      <td>24000.25</td>\n      <td>96001.50</td>\n      <td>48000.33</td>\n      <td>72000.75</td>\n      <td>96000.25</td>\n      <td>48007.83</td>\n      <td>144000.67</td>\n      <td>71999.92</td>\n      <td>24005.58</td>\n      <td>24000.17</td>\n      <td>14.43</td>\n    </tr>\n    <tr>\n      <th>2017</th>\n      <td>73088.08</td>\n      <td>102087.58</td>\n      <td>589550.25</td>\n      <td>24287.17</td>\n      <td>97094.33</td>\n      <td>49584.25</td>\n      <td>78065.83</td>\n      <td>101407.42</td>\n      <td>50141.00</td>\n      <td>147157.75</td>\n      <td>76191.17</td>\n      <td>25654.17</td>\n      <td>26806.50</td>\n      <td>13.94</td>\n    </tr>\n    <tr>\n      <th>2018</th>\n      <td>71998.92</td>\n      <td>96009.75</td>\n      <td>576079.00</td>\n      <td>23999.58</td>\n      <td>96002.75</td>\n      <td>48001.58</td>\n      <td>72005.42</td>\n      <td>96005.58</td>\n      <td>47996.08</td>\n      <td>143999.33</td>\n      <td>72003.08</td>\n      <td>24000.25</td>\n      <td>23995.42</td>\n      <td>13.86</td>\n    </tr>\n  </tbody>\n</table>\n</div>"
     },
     "execution_count": 68,
     "metadata": {},
     "output_type": "execute_result"
    }
   ],
   "source": [
    "result = data.T\n",
    "result"
   ],
   "metadata": {
    "collapsed": false,
    "ExecuteTime": {
     "end_time": "2024-02-22T05:17:58.325371800Z",
     "start_time": "2024-02-22T05:17:58.312323900Z"
    }
   },
   "id": "393c7e62773a4e3f",
   "execution_count": 68
  },
  {
   "cell_type": "code",
   "outputs": [
    {
     "name": "stdout",
     "output_type": "stream",
     "text": [
      "A\n",
      "[[1.         0.08203163]\n",
      " [0.08203163 1.        ]]\n",
      "B\n",
      "[[1.         0.08081509]\n",
      " [0.08081509 1.        ]]\n",
      "C\n",
      "[[1.         0.08053661]\n",
      " [0.08053661 1.        ]]\n",
      "D\n",
      "[[1.         0.08114407]\n",
      " [0.08114407 1.        ]]\n",
      "E\n",
      "[[1.         0.08141121]\n",
      " [0.08141121 1.        ]]\n",
      "F\n",
      "[[1.         0.08125585]\n",
      " [0.08125585 1.        ]]\n",
      "G\n",
      "[[1.         0.08069961]\n",
      " [0.08069961 1.        ]]\n",
      "H\n",
      "[[1.        0.0805822]\n",
      " [0.0805822 1.       ]]\n",
      "I\n",
      "[[1.         0.08281458]\n",
      " [0.08281458 1.        ]]\n",
      "J\n",
      "[[1.        0.0811997]\n",
      " [0.0811997 1.       ]]\n"
     ]
    }
   ],
   "source": [
    "#공분산 결과\n",
    "#cov_result = np.cov(result['A'], result['year'])\n",
    "\n",
    "for alpha in ['A', 'B', 'C', 'D', 'E', 'F', 'G', 'H', 'I', 'J']:\n",
    "    print(alpha)\n",
    "    insult_data = result[f'{alpha}']\n",
    "    cov_result = np.corrcoef(insult_data, result['year'])\n",
    "    print(cov_result)"
   ],
   "metadata": {
    "collapsed": false,
    "ExecuteTime": {
     "end_time": "2024-02-22T05:29:19.473382100Z",
     "start_time": "2024-02-22T05:29:19.461843Z"
    }
   },
   "id": "85716647bdd7234d",
   "execution_count": 75
  },
  {
   "cell_type": "code",
   "outputs": [],
   "source": [],
   "metadata": {
    "collapsed": false,
    "ExecuteTime": {
     "end_time": "2024-02-22T05:14:33.426874100Z",
     "start_time": "2024-02-22T05:14:33.399624400Z"
    }
   },
   "id": "c20ad86ae290ca83",
   "execution_count": 64
  },
  {
   "cell_type": "code",
   "outputs": [],
   "source": [],
   "metadata": {
    "collapsed": false,
    "ExecuteTime": {
     "end_time": "2024-02-22T05:14:33.426874100Z",
     "start_time": "2024-02-22T05:14:33.402583600Z"
    }
   },
   "id": "76ab3093c61dd6c1",
   "execution_count": 64
  },
  {
   "cell_type": "code",
   "outputs": [],
   "source": [],
   "metadata": {
    "collapsed": false,
    "ExecuteTime": {
     "end_time": "2024-02-22T05:14:33.426874100Z",
     "start_time": "2024-02-22T05:14:33.405775100Z"
    }
   },
   "id": "490269db05ebc94",
   "execution_count": 64
  },
  {
   "cell_type": "code",
   "outputs": [],
   "source": [],
   "metadata": {
    "collapsed": false,
    "ExecuteTime": {
     "end_time": "2024-02-22T05:14:33.426874100Z",
     "start_time": "2024-02-22T05:14:33.408241700Z"
    }
   },
   "id": "cb57e5916e904ade",
   "execution_count": 64
  },
  {
   "cell_type": "code",
   "outputs": [],
   "source": [],
   "metadata": {
    "collapsed": false,
    "ExecuteTime": {
     "end_time": "2024-02-22T05:14:33.426874100Z",
     "start_time": "2024-02-22T05:14:33.410805300Z"
    }
   },
   "id": "18faaddd9f1cb0f8",
   "execution_count": 64
  },
  {
   "cell_type": "code",
   "outputs": [
    {
     "ename": "KeyError",
     "evalue": "'평균기온(℃)'",
     "output_type": "error",
     "traceback": [
      "\u001B[1;31m---------------------------------------------------------------------------\u001B[0m",
      "\u001B[1;31mKeyError\u001B[0m                                  Traceback (most recent call last)",
      "File \u001B[1;32mC:\\ProgramData\\anaconda3\\Lib\\site-packages\\pandas\\core\\indexes\\base.py:3653\u001B[0m, in \u001B[0;36mIndex.get_loc\u001B[1;34m(self, key)\u001B[0m\n\u001B[0;32m   3652\u001B[0m \u001B[38;5;28;01mtry\u001B[39;00m:\n\u001B[1;32m-> 3653\u001B[0m     \u001B[38;5;28;01mreturn\u001B[39;00m \u001B[38;5;28mself\u001B[39m\u001B[38;5;241m.\u001B[39m_engine\u001B[38;5;241m.\u001B[39mget_loc(casted_key)\n\u001B[0;32m   3654\u001B[0m \u001B[38;5;28;01mexcept\u001B[39;00m \u001B[38;5;167;01mKeyError\u001B[39;00m \u001B[38;5;28;01mas\u001B[39;00m err:\n",
      "File \u001B[1;32mC:\\ProgramData\\anaconda3\\Lib\\site-packages\\pandas\\_libs\\index.pyx:147\u001B[0m, in \u001B[0;36mpandas._libs.index.IndexEngine.get_loc\u001B[1;34m()\u001B[0m\n",
      "File \u001B[1;32mC:\\ProgramData\\anaconda3\\Lib\\site-packages\\pandas\\_libs\\index.pyx:176\u001B[0m, in \u001B[0;36mpandas._libs.index.IndexEngine.get_loc\u001B[1;34m()\u001B[0m\n",
      "File \u001B[1;32mpandas\\_libs\\hashtable_class_helper.pxi:7080\u001B[0m, in \u001B[0;36mpandas._libs.hashtable.PyObjectHashTable.get_item\u001B[1;34m()\u001B[0m\n",
      "File \u001B[1;32mpandas\\_libs\\hashtable_class_helper.pxi:7088\u001B[0m, in \u001B[0;36mpandas._libs.hashtable.PyObjectHashTable.get_item\u001B[1;34m()\u001B[0m\n",
      "\u001B[1;31mKeyError\u001B[0m: '평균기온(℃)'",
      "\nThe above exception was the direct cause of the following exception:\n",
      "\u001B[1;31mKeyError\u001B[0m                                  Traceback (most recent call last)",
      "Cell \u001B[1;32mIn[65], line 3\u001B[0m\n\u001B[0;32m      1\u001B[0m file_2 \u001B[38;5;241m=\u001B[39m \u001B[38;5;124m'\u001B[39m\u001B[38;5;124mearth.csv\u001B[39m\u001B[38;5;124m'\u001B[39m\n\u001B[0;32m      2\u001B[0m e_data \u001B[38;5;241m=\u001B[39m pd\u001B[38;5;241m.\u001B[39mread_csv(file, index_col\u001B[38;5;241m=\u001B[39m\u001B[38;5;241m0\u001B[39m, header \u001B[38;5;241m=\u001B[39m [\u001B[38;5;241m0\u001B[39m, \u001B[38;5;241m1\u001B[39m])\n\u001B[1;32m----> 3\u001B[0m mean_tempDF \u001B[38;5;241m=\u001B[39m e_data\u001B[38;5;241m.\u001B[39mxs(\u001B[38;5;124m'\u001B[39m\u001B[38;5;124m평균기온(℃)\u001B[39m\u001B[38;5;124m'\u001B[39m, level \u001B[38;5;241m=\u001B[39m \u001B[38;5;241m1\u001B[39m, axis \u001B[38;5;241m=\u001B[39m \u001B[38;5;241m1\u001B[39m)\n\u001B[0;32m      4\u001B[0m mean_tempDF[\u001B[38;5;124m'\u001B[39m\u001B[38;5;124mavg\u001B[39m\u001B[38;5;124m'\u001B[39m] \u001B[38;5;241m=\u001B[39m mean_tempDF\u001B[38;5;241m.\u001B[39mmean(axis \u001B[38;5;241m=\u001B[39m \u001B[38;5;241m1\u001B[39m)\u001B[38;5;241m.\u001B[39mround(\u001B[38;5;241m2\u001B[39m)\n\u001B[0;32m      5\u001B[0m avg_data \u001B[38;5;241m=\u001B[39m mean_tempDF[\u001B[38;5;124m'\u001B[39m\u001B[38;5;124mavg\u001B[39m\u001B[38;5;124m'\u001B[39m]\n",
      "File \u001B[1;32mC:\\ProgramData\\anaconda3\\Lib\\site-packages\\pandas\\core\\generic.py:4069\u001B[0m, in \u001B[0;36mNDFrame.xs\u001B[1;34m(self, key, axis, level, drop_level)\u001B[0m\n\u001B[0;32m   4067\u001B[0m \u001B[38;5;28;01mif\u001B[39;00m \u001B[38;5;129;01mnot\u001B[39;00m \u001B[38;5;28misinstance\u001B[39m(labels, MultiIndex):\n\u001B[0;32m   4068\u001B[0m     \u001B[38;5;28;01mraise\u001B[39;00m \u001B[38;5;167;01mTypeError\u001B[39;00m(\u001B[38;5;124m\"\u001B[39m\u001B[38;5;124mIndex must be a MultiIndex\u001B[39m\u001B[38;5;124m\"\u001B[39m)\n\u001B[1;32m-> 4069\u001B[0m loc, new_ax \u001B[38;5;241m=\u001B[39m labels\u001B[38;5;241m.\u001B[39mget_loc_level(key, level\u001B[38;5;241m=\u001B[39mlevel, drop_level\u001B[38;5;241m=\u001B[39mdrop_level)\n\u001B[0;32m   4071\u001B[0m \u001B[38;5;66;03m# create the tuple of the indexer\u001B[39;00m\n\u001B[0;32m   4072\u001B[0m _indexer \u001B[38;5;241m=\u001B[39m [\u001B[38;5;28mslice\u001B[39m(\u001B[38;5;28;01mNone\u001B[39;00m)] \u001B[38;5;241m*\u001B[39m \u001B[38;5;28mself\u001B[39m\u001B[38;5;241m.\u001B[39mndim\n",
      "File \u001B[1;32mC:\\ProgramData\\anaconda3\\Lib\\site-packages\\pandas\\core\\indexes\\multi.py:2920\u001B[0m, in \u001B[0;36mMultiIndex.get_loc_level\u001B[1;34m(self, key, level, drop_level)\u001B[0m\n\u001B[0;32m   2917\u001B[0m \u001B[38;5;28;01melse\u001B[39;00m:\n\u001B[0;32m   2918\u001B[0m     level \u001B[38;5;241m=\u001B[39m [\u001B[38;5;28mself\u001B[39m\u001B[38;5;241m.\u001B[39m_get_level_number(lev) \u001B[38;5;28;01mfor\u001B[39;00m lev \u001B[38;5;129;01min\u001B[39;00m level]\n\u001B[1;32m-> 2920\u001B[0m loc, mi \u001B[38;5;241m=\u001B[39m \u001B[38;5;28mself\u001B[39m\u001B[38;5;241m.\u001B[39m_get_loc_level(key, level\u001B[38;5;241m=\u001B[39mlevel)\n\u001B[0;32m   2921\u001B[0m \u001B[38;5;28;01mif\u001B[39;00m \u001B[38;5;129;01mnot\u001B[39;00m drop_level:\n\u001B[0;32m   2922\u001B[0m     \u001B[38;5;28;01mif\u001B[39;00m lib\u001B[38;5;241m.\u001B[39mis_integer(loc):\n",
      "File \u001B[1;32mC:\\ProgramData\\anaconda3\\Lib\\site-packages\\pandas\\core\\indexes\\multi.py:3059\u001B[0m, in \u001B[0;36mMultiIndex._get_loc_level\u001B[1;34m(self, key, level)\u001B[0m\n\u001B[0;32m   3057\u001B[0m         \u001B[38;5;28;01mreturn\u001B[39;00m indexer, maybe_mi_droplevels(indexer, ilevels)\n\u001B[0;32m   3058\u001B[0m \u001B[38;5;28;01melse\u001B[39;00m:\n\u001B[1;32m-> 3059\u001B[0m     indexer \u001B[38;5;241m=\u001B[39m \u001B[38;5;28mself\u001B[39m\u001B[38;5;241m.\u001B[39m_get_level_indexer(key, level\u001B[38;5;241m=\u001B[39mlevel)\n\u001B[0;32m   3060\u001B[0m     \u001B[38;5;28;01mif\u001B[39;00m (\n\u001B[0;32m   3061\u001B[0m         \u001B[38;5;28misinstance\u001B[39m(key, \u001B[38;5;28mstr\u001B[39m)\n\u001B[0;32m   3062\u001B[0m         \u001B[38;5;129;01mand\u001B[39;00m \u001B[38;5;28mself\u001B[39m\u001B[38;5;241m.\u001B[39mlevels[level]\u001B[38;5;241m.\u001B[39m_supports_partial_string_indexing\n\u001B[0;32m   3063\u001B[0m     ):\n\u001B[0;32m   3064\u001B[0m         \u001B[38;5;66;03m# check to see if we did an exact lookup vs sliced\u001B[39;00m\n\u001B[0;32m   3065\u001B[0m         check \u001B[38;5;241m=\u001B[39m \u001B[38;5;28mself\u001B[39m\u001B[38;5;241m.\u001B[39mlevels[level]\u001B[38;5;241m.\u001B[39mget_loc(key)\n",
      "File \u001B[1;32mC:\\ProgramData\\anaconda3\\Lib\\site-packages\\pandas\\core\\indexes\\multi.py:3160\u001B[0m, in \u001B[0;36mMultiIndex._get_level_indexer\u001B[1;34m(self, key, level, indexer)\u001B[0m\n\u001B[0;32m   3157\u001B[0m         \u001B[38;5;28;01mreturn\u001B[39;00m \u001B[38;5;28mslice\u001B[39m(i, j, step)\n\u001B[0;32m   3159\u001B[0m \u001B[38;5;28;01melse\u001B[39;00m:\n\u001B[1;32m-> 3160\u001B[0m     idx \u001B[38;5;241m=\u001B[39m \u001B[38;5;28mself\u001B[39m\u001B[38;5;241m.\u001B[39m_get_loc_single_level_index(level_index, key)\n\u001B[0;32m   3162\u001B[0m     \u001B[38;5;28;01mif\u001B[39;00m level \u001B[38;5;241m>\u001B[39m \u001B[38;5;241m0\u001B[39m \u001B[38;5;129;01mor\u001B[39;00m \u001B[38;5;28mself\u001B[39m\u001B[38;5;241m.\u001B[39m_lexsort_depth \u001B[38;5;241m==\u001B[39m \u001B[38;5;241m0\u001B[39m:\n\u001B[0;32m   3163\u001B[0m         \u001B[38;5;66;03m# Desired level is not sorted\u001B[39;00m\n\u001B[0;32m   3164\u001B[0m         \u001B[38;5;28;01mif\u001B[39;00m \u001B[38;5;28misinstance\u001B[39m(idx, \u001B[38;5;28mslice\u001B[39m):\n\u001B[0;32m   3165\u001B[0m             \u001B[38;5;66;03m# test_get_loc_partial_timestamp_multiindex\u001B[39;00m\n",
      "File \u001B[1;32mC:\\ProgramData\\anaconda3\\Lib\\site-packages\\pandas\\core\\indexes\\multi.py:2752\u001B[0m, in \u001B[0;36mMultiIndex._get_loc_single_level_index\u001B[1;34m(self, level_index, key)\u001B[0m\n\u001B[0;32m   2750\u001B[0m     \u001B[38;5;28;01mreturn\u001B[39;00m \u001B[38;5;241m-\u001B[39m\u001B[38;5;241m1\u001B[39m\n\u001B[0;32m   2751\u001B[0m \u001B[38;5;28;01melse\u001B[39;00m:\n\u001B[1;32m-> 2752\u001B[0m     \u001B[38;5;28;01mreturn\u001B[39;00m level_index\u001B[38;5;241m.\u001B[39mget_loc(key)\n",
      "File \u001B[1;32mC:\\ProgramData\\anaconda3\\Lib\\site-packages\\pandas\\core\\indexes\\base.py:3655\u001B[0m, in \u001B[0;36mIndex.get_loc\u001B[1;34m(self, key)\u001B[0m\n\u001B[0;32m   3653\u001B[0m     \u001B[38;5;28;01mreturn\u001B[39;00m \u001B[38;5;28mself\u001B[39m\u001B[38;5;241m.\u001B[39m_engine\u001B[38;5;241m.\u001B[39mget_loc(casted_key)\n\u001B[0;32m   3654\u001B[0m \u001B[38;5;28;01mexcept\u001B[39;00m \u001B[38;5;167;01mKeyError\u001B[39;00m \u001B[38;5;28;01mas\u001B[39;00m err:\n\u001B[1;32m-> 3655\u001B[0m     \u001B[38;5;28;01mraise\u001B[39;00m \u001B[38;5;167;01mKeyError\u001B[39;00m(key) \u001B[38;5;28;01mfrom\u001B[39;00m \u001B[38;5;21;01merr\u001B[39;00m\n\u001B[0;32m   3656\u001B[0m \u001B[38;5;28;01mexcept\u001B[39;00m \u001B[38;5;167;01mTypeError\u001B[39;00m:\n\u001B[0;32m   3657\u001B[0m     \u001B[38;5;66;03m# If we have a listlike key, _check_indexing_error will raise\u001B[39;00m\n\u001B[0;32m   3658\u001B[0m     \u001B[38;5;66;03m#  InvalidIndexError. Otherwise we fall through and re-raise\u001B[39;00m\n\u001B[0;32m   3659\u001B[0m     \u001B[38;5;66;03m#  the TypeError.\u001B[39;00m\n\u001B[0;32m   3660\u001B[0m     \u001B[38;5;28mself\u001B[39m\u001B[38;5;241m.\u001B[39m_check_indexing_error(key)\n",
      "\u001B[1;31mKeyError\u001B[0m: '평균기온(℃)'"
     ]
    }
   ],
   "source": [
    "file_2 = 'earth.csv'\n",
    "e_data = pd.read_csv(file, index_col=0, header = [0, 1])\n",
    "mean_tempDF = e_data.xs('평균기온(℃)', level = 1, axis = 1)\n",
    "mean_tempDF['avg'] = mean_tempDF.mean(axis = 1).round(2)\n",
    "avg_data = mean_tempDF['avg']\n",
    "avg_data"
   ],
   "metadata": {
    "collapsed": false,
    "ExecuteTime": {
     "end_time": "2024-02-22T05:14:33.517089600Z",
     "start_time": "2024-02-22T05:14:33.415490300Z"
    }
   },
   "id": "a8d03d0296fd021c",
   "execution_count": 65
  },
  {
   "cell_type": "code",
   "outputs": [],
   "source": [],
   "metadata": {
    "collapsed": false,
    "ExecuteTime": {
     "start_time": "2024-02-22T05:14:33.494557400Z"
    }
   },
   "id": "24107217a5ee1ed6",
   "execution_count": null
  },
  {
   "cell_type": "code",
   "outputs": [],
   "source": [],
   "metadata": {
    "collapsed": false,
    "ExecuteTime": {
     "start_time": "2024-02-22T05:14:33.495554Z"
    }
   },
   "id": "c20c0c5208fca252",
   "execution_count": null
  }
 ],
 "metadata": {
  "kernelspec": {
   "display_name": "Python 3",
   "language": "python",
   "name": "python3"
  },
  "language_info": {
   "codemirror_mode": {
    "name": "ipython",
    "version": 2
   },
   "file_extension": ".py",
   "mimetype": "text/x-python",
   "name": "python",
   "nbconvert_exporter": "python",
   "pygments_lexer": "ipython2",
   "version": "2.7.6"
  }
 },
 "nbformat": 4,
 "nbformat_minor": 5
}
