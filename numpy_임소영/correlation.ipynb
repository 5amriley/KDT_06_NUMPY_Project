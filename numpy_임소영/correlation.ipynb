{
 "cells": [
  {
   "cell_type": "code",
   "execution_count": 40,
   "id": "initial_id",
   "metadata": {
    "collapsed": true,
    "ExecuteTime": {
     "end_time": "2024-02-22T04:55:59.653402900Z",
     "start_time": "2024-02-22T04:55:59.637352400Z"
    }
   },
   "outputs": [],
   "source": [
    "import pandas as pd\n",
    "import numpy as np\n",
    "import matplotlib.pyplot as plt\n",
    "import koreanize_matplotlib"
   ]
  },
  {
   "cell_type": "code",
   "outputs": [
    {
     "data": {
      "text/plain": "          서울                                  부산                              \\\n     평균기온(℃) 평균최저기온(℃) 평균최고기온(℃) 강수량(mm) 평균기온(℃) 평균최저기온(℃) 평균최고기온(℃) 강수량(mm)   \n1992    12.5       8.5      16.9  1454.9    14.8      11.5      18.8  1308.9   \n1993    12.0       8.1      16.7  1292.7    14.0      10.7      18.2  1615.3   \n1994    13.5       9.5      18.3  1055.8    15.6      12.2      20.0   959.9   \n1995    12.2       8.2      16.7  1598.6    14.5      11.0      19.1  1005.7   \n1996    12.2       8.3      16.8  1256.6    14.5      10.9      19.1  1289.6   \n1997    12.9       8.7      17.7  1210.2    15.2      11.7      19.8  1598.1   \n1998    13.8       9.8      18.4  2349.1    15.8      12.8      19.7  2028.8   \n1999    13.2       9.0      17.8  1733.1    15.0      11.8      19.2  2396.7   \n2000    12.7       8.6      17.1  1186.8    14.9      11.6      19.2  1248.5   \n2001    12.8       8.9      17.3  1386.0    15.3      12.0      20.0  1171.3   \n2002    12.9       9.1      17.2  1388.0    14.7      11.4      18.9  2085.2   \n2003    12.8       9.2      17.0  2012.0    14.3      11.2      18.5  2328.3   \n2004    13.3       9.5      17.7  1499.1    14.9      11.5      19.3  1386.5   \n2005    12.1       8.4      16.4  1358.4    13.8      10.5      18.1  1383.9   \n2006    13.0       9.3      17.2  1681.9    14.7      11.4      18.9  1528.3   \n2007    13.3       9.7      17.5  1212.3    15.3      12.4      19.1  1276.5   \n2008    12.9       9.1      17.3  1356.3    15.0      12.0      18.8  1168.3   \n2009    12.9       9.1      17.2  1564.0    15.2      12.1      19.2  1772.9   \n2010    12.1       8.5      16.3  2043.5    14.9      11.7      19.0  1441.9   \n2011    12.0       8.4      16.4  2039.3    14.6      11.3      18.8  1478.6   \n2012    12.2       8.5      16.7  1646.3    14.5      11.3      18.6  1983.3   \n2013    12.5       8.7      16.9  1403.8    15.3      11.8      19.5  1130.1   \n2014    13.4       9.3      18.3   808.9    15.1      12.0      19.2  1693.1   \n2015    13.6       9.3      18.7   792.1    15.4      12.2      19.5  1396.7   \n2016    13.6       9.4      18.5   991.7    15.7      12.5      19.8  1760.2   \n2017    13.0       8.8      18.1  1233.2    15.2      11.7      19.6  1014.4   \n2018    12.9       8.8      17.9  1284.1    15.1      11.8      19.2  1778.6   \n2019    13.5       9.3      18.5   891.3    15.7      12.5      19.8  1623.2   \n2020    13.2       9.4      17.9  1651.1    15.2      11.9      19.4  2281.6   \n2021    13.7       9.6      18.5  1186.5    15.7      12.4      19.9  1807.8   \n2022    13.2       9.2      18.0  1775.3    15.4      12.0      19.8   991.9   \n\n          인천            ...        대전              광주                      \\\n     평균기온(℃) 평균최저기온(℃)  ... 평균최고기온(℃) 강수량(mm) 평균기온(℃) 평균최저기온(℃) 평균최고기온(℃)   \n1992    11.9       8.4  ...      18.5  1036.9    13.7       9.1      19.1   \n1993    11.5       8.1  ...      17.8  1533.1    13.1       8.8      18.4   \n1994    12.9       9.3  ...      19.7   857.9    14.6       9.9      20.3   \n1995    11.7       8.3  ...      18.4  1136.2    13.4       8.9      18.7   \n1996    11.6       8.0  ...      18.0  1279.2    13.2       8.9      18.6   \n1997    12.1       8.3  ...      18.7  1765.9    14.1       9.5      19.6   \n1998    13.1       9.5  ...      19.2  2070.0    15.0      10.7      20.1   \n1999    12.6       8.9  ...      18.5  1455.2    14.3       9.9      19.4   \n2000    12.7       9.2  ...      18.1  1707.5    13.5       9.0      19.0   \n2001    12.8       9.3  ...      18.8   828.7    13.8       9.4      19.4   \n2002    13.1       9.4  ...      18.4  1378.7    13.9       9.4      19.3   \n2003    12.5       9.1  ...      18.0  1748.9    13.6       9.5      18.4   \n2004    12.9       9.2  ...      19.3  1496.5    14.3       9.8      19.8   \n2005    12.0       8.3  ...      17.5  1656.1    13.6       9.4      18.7   \n2006    12.7       9.4  ...      18.3  1195.2    14.2      10.0      19.2   \n2007    12.9       9.9  ...      18.4  1750.9    14.6      10.6      19.6   \n2008    12.8       9.5  ...      18.3  1037.6    14.6      10.4      19.8   \n2009    12.6       9.4  ...      18.2  1090.4    14.6      10.2      20.1   \n2010    12.3       9.1  ...      17.7  1419.7    14.2      10.1      19.2   \n2011    12.0       9.0  ...      17.6  1943.4    13.7       9.5      19.0   \n2012    12.1       8.8  ...      17.6  1409.5    13.7       9.5      18.9   \n2013    11.9       8.7  ...      18.3  1120.2    14.2       9.8      19.6   \n2014    12.8       9.6  ...      18.9  1117.7    14.3      10.0      19.7   \n2015    13.1       9.9  ...      19.4   822.7    14.6      10.4      19.8   \n2016    13.3      10.0  ...      19.4  1228.4    15.0      10.9      20.1   \n2017    12.5       9.3  ...      18.9  1127.5    14.6      10.2      20.1   \n2018    12.5       9.2  ...      19.0  1542.1    14.6      10.3      20.1   \n2019    13.2       9.9  ...      19.5   984.2    14.7      10.5      20.0   \n2020    12.8       9.8  ...      19.2  1614.0    14.5      10.5      19.6   \n2021    13.4      10.0  ...      19.7  1109.5    15.1      10.8      20.3   \n2022    12.5       9.3  ...      19.4  1203.1    14.8      10.5      20.2   \n\n                  울산                              \n     강수량(mm) 평균기온(℃) 평균최저기온(℃) 평균최고기온(℃) 강수량(mm)  \n1992  1098.1    14.2      10.0      19.2  1155.4  \n1993  1372.1    13.1       8.9      18.1  1649.4  \n1994   776.4    14.8      10.2      20.3   921.4  \n1995   764.4    13.7       9.2      19.2   693.0  \n1996  1268.8    13.7       9.3      19.0  1015.0  \n1997  1479.2    14.5       9.9      19.8  1198.6  \n1998  1943.0    15.1      11.2      19.5  1796.0  \n1999  1429.7    14.4      10.3      19.0  1864.9  \n2000  1511.0    14.3      10.1      19.2  1027.1  \n2001  1129.9    14.6      10.5      19.4   869.1  \n2002  1458.7    14.4      10.2      19.3  1559.8  \n2003  1994.1    14.3      10.3      19.1  1864.2  \n2004  1742.3    15.2      10.7      20.5  1250.1  \n2005  1289.6    14.3      10.0      19.4  1135.7  \n2006  1520.2    14.6      10.4      19.6  1393.9  \n2007  1620.6    15.0      10.8      19.9  1135.8  \n2008  1007.2    14.2      10.0      19.3  1112.3  \n2009  1488.2    14.3      10.0      19.5  1133.2  \n2010  1573.1    14.0       9.7      19.2  1161.6  \n2011  1300.3    13.7       9.4      18.8  1233.2  \n2012  1626.8    13.7       9.6      18.7  1458.1  \n2013  1245.4    14.8      10.3      20.2   858.3  \n2014  1290.3    14.7      10.6      19.7  1398.7  \n2015  1049.6    15.0      10.8      19.8  1044.6  \n2016  1482.3    14.8      10.8      19.4  1693.9  \n2017   936.6    14.5      10.1      19.4   671.4  \n2018  1427.9    14.3      10.2      19.0  1416.1  \n2019  1085.9    14.9      10.7      19.7  1450.1  \n2020  2027.0    14.6      10.6      19.3  1557.9  \n2021  1303.8    14.9      10.8      19.6  1337.0  \n2022   769.9    14.7      10.5      19.5   926.1  \n\n[31 rows x 28 columns]",
      "text/html": "<div>\n<style scoped>\n    .dataframe tbody tr th:only-of-type {\n        vertical-align: middle;\n    }\n\n    .dataframe tbody tr th {\n        vertical-align: top;\n    }\n\n    .dataframe thead tr th {\n        text-align: left;\n    }\n</style>\n<table border=\"1\" class=\"dataframe\">\n  <thead>\n    <tr>\n      <th></th>\n      <th colspan=\"4\" halign=\"left\">서울</th>\n      <th colspan=\"4\" halign=\"left\">부산</th>\n      <th colspan=\"2\" halign=\"left\">인천</th>\n      <th>...</th>\n      <th colspan=\"2\" halign=\"left\">대전</th>\n      <th colspan=\"4\" halign=\"left\">광주</th>\n      <th colspan=\"4\" halign=\"left\">울산</th>\n    </tr>\n    <tr>\n      <th></th>\n      <th>평균기온(℃)</th>\n      <th>평균최저기온(℃)</th>\n      <th>평균최고기온(℃)</th>\n      <th>강수량(mm)</th>\n      <th>평균기온(℃)</th>\n      <th>평균최저기온(℃)</th>\n      <th>평균최고기온(℃)</th>\n      <th>강수량(mm)</th>\n      <th>평균기온(℃)</th>\n      <th>평균최저기온(℃)</th>\n      <th>...</th>\n      <th>평균최고기온(℃)</th>\n      <th>강수량(mm)</th>\n      <th>평균기온(℃)</th>\n      <th>평균최저기온(℃)</th>\n      <th>평균최고기온(℃)</th>\n      <th>강수량(mm)</th>\n      <th>평균기온(℃)</th>\n      <th>평균최저기온(℃)</th>\n      <th>평균최고기온(℃)</th>\n      <th>강수량(mm)</th>\n    </tr>\n  </thead>\n  <tbody>\n    <tr>\n      <th>1992</th>\n      <td>12.5</td>\n      <td>8.5</td>\n      <td>16.9</td>\n      <td>1454.9</td>\n      <td>14.8</td>\n      <td>11.5</td>\n      <td>18.8</td>\n      <td>1308.9</td>\n      <td>11.9</td>\n      <td>8.4</td>\n      <td>...</td>\n      <td>18.5</td>\n      <td>1036.9</td>\n      <td>13.7</td>\n      <td>9.1</td>\n      <td>19.1</td>\n      <td>1098.1</td>\n      <td>14.2</td>\n      <td>10.0</td>\n      <td>19.2</td>\n      <td>1155.4</td>\n    </tr>\n    <tr>\n      <th>1993</th>\n      <td>12.0</td>\n      <td>8.1</td>\n      <td>16.7</td>\n      <td>1292.7</td>\n      <td>14.0</td>\n      <td>10.7</td>\n      <td>18.2</td>\n      <td>1615.3</td>\n      <td>11.5</td>\n      <td>8.1</td>\n      <td>...</td>\n      <td>17.8</td>\n      <td>1533.1</td>\n      <td>13.1</td>\n      <td>8.8</td>\n      <td>18.4</td>\n      <td>1372.1</td>\n      <td>13.1</td>\n      <td>8.9</td>\n      <td>18.1</td>\n      <td>1649.4</td>\n    </tr>\n    <tr>\n      <th>1994</th>\n      <td>13.5</td>\n      <td>9.5</td>\n      <td>18.3</td>\n      <td>1055.8</td>\n      <td>15.6</td>\n      <td>12.2</td>\n      <td>20.0</td>\n      <td>959.9</td>\n      <td>12.9</td>\n      <td>9.3</td>\n      <td>...</td>\n      <td>19.7</td>\n      <td>857.9</td>\n      <td>14.6</td>\n      <td>9.9</td>\n      <td>20.3</td>\n      <td>776.4</td>\n      <td>14.8</td>\n      <td>10.2</td>\n      <td>20.3</td>\n      <td>921.4</td>\n    </tr>\n    <tr>\n      <th>1995</th>\n      <td>12.2</td>\n      <td>8.2</td>\n      <td>16.7</td>\n      <td>1598.6</td>\n      <td>14.5</td>\n      <td>11.0</td>\n      <td>19.1</td>\n      <td>1005.7</td>\n      <td>11.7</td>\n      <td>8.3</td>\n      <td>...</td>\n      <td>18.4</td>\n      <td>1136.2</td>\n      <td>13.4</td>\n      <td>8.9</td>\n      <td>18.7</td>\n      <td>764.4</td>\n      <td>13.7</td>\n      <td>9.2</td>\n      <td>19.2</td>\n      <td>693.0</td>\n    </tr>\n    <tr>\n      <th>1996</th>\n      <td>12.2</td>\n      <td>8.3</td>\n      <td>16.8</td>\n      <td>1256.6</td>\n      <td>14.5</td>\n      <td>10.9</td>\n      <td>19.1</td>\n      <td>1289.6</td>\n      <td>11.6</td>\n      <td>8.0</td>\n      <td>...</td>\n      <td>18.0</td>\n      <td>1279.2</td>\n      <td>13.2</td>\n      <td>8.9</td>\n      <td>18.6</td>\n      <td>1268.8</td>\n      <td>13.7</td>\n      <td>9.3</td>\n      <td>19.0</td>\n      <td>1015.0</td>\n    </tr>\n    <tr>\n      <th>1997</th>\n      <td>12.9</td>\n      <td>8.7</td>\n      <td>17.7</td>\n      <td>1210.2</td>\n      <td>15.2</td>\n      <td>11.7</td>\n      <td>19.8</td>\n      <td>1598.1</td>\n      <td>12.1</td>\n      <td>8.3</td>\n      <td>...</td>\n      <td>18.7</td>\n      <td>1765.9</td>\n      <td>14.1</td>\n      <td>9.5</td>\n      <td>19.6</td>\n      <td>1479.2</td>\n      <td>14.5</td>\n      <td>9.9</td>\n      <td>19.8</td>\n      <td>1198.6</td>\n    </tr>\n    <tr>\n      <th>1998</th>\n      <td>13.8</td>\n      <td>9.8</td>\n      <td>18.4</td>\n      <td>2349.1</td>\n      <td>15.8</td>\n      <td>12.8</td>\n      <td>19.7</td>\n      <td>2028.8</td>\n      <td>13.1</td>\n      <td>9.5</td>\n      <td>...</td>\n      <td>19.2</td>\n      <td>2070.0</td>\n      <td>15.0</td>\n      <td>10.7</td>\n      <td>20.1</td>\n      <td>1943.0</td>\n      <td>15.1</td>\n      <td>11.2</td>\n      <td>19.5</td>\n      <td>1796.0</td>\n    </tr>\n    <tr>\n      <th>1999</th>\n      <td>13.2</td>\n      <td>9.0</td>\n      <td>17.8</td>\n      <td>1733.1</td>\n      <td>15.0</td>\n      <td>11.8</td>\n      <td>19.2</td>\n      <td>2396.7</td>\n      <td>12.6</td>\n      <td>8.9</td>\n      <td>...</td>\n      <td>18.5</td>\n      <td>1455.2</td>\n      <td>14.3</td>\n      <td>9.9</td>\n      <td>19.4</td>\n      <td>1429.7</td>\n      <td>14.4</td>\n      <td>10.3</td>\n      <td>19.0</td>\n      <td>1864.9</td>\n    </tr>\n    <tr>\n      <th>2000</th>\n      <td>12.7</td>\n      <td>8.6</td>\n      <td>17.1</td>\n      <td>1186.8</td>\n      <td>14.9</td>\n      <td>11.6</td>\n      <td>19.2</td>\n      <td>1248.5</td>\n      <td>12.7</td>\n      <td>9.2</td>\n      <td>...</td>\n      <td>18.1</td>\n      <td>1707.5</td>\n      <td>13.5</td>\n      <td>9.0</td>\n      <td>19.0</td>\n      <td>1511.0</td>\n      <td>14.3</td>\n      <td>10.1</td>\n      <td>19.2</td>\n      <td>1027.1</td>\n    </tr>\n    <tr>\n      <th>2001</th>\n      <td>12.8</td>\n      <td>8.9</td>\n      <td>17.3</td>\n      <td>1386.0</td>\n      <td>15.3</td>\n      <td>12.0</td>\n      <td>20.0</td>\n      <td>1171.3</td>\n      <td>12.8</td>\n      <td>9.3</td>\n      <td>...</td>\n      <td>18.8</td>\n      <td>828.7</td>\n      <td>13.8</td>\n      <td>9.4</td>\n      <td>19.4</td>\n      <td>1129.9</td>\n      <td>14.6</td>\n      <td>10.5</td>\n      <td>19.4</td>\n      <td>869.1</td>\n    </tr>\n    <tr>\n      <th>2002</th>\n      <td>12.9</td>\n      <td>9.1</td>\n      <td>17.2</td>\n      <td>1388.0</td>\n      <td>14.7</td>\n      <td>11.4</td>\n      <td>18.9</td>\n      <td>2085.2</td>\n      <td>13.1</td>\n      <td>9.4</td>\n      <td>...</td>\n      <td>18.4</td>\n      <td>1378.7</td>\n      <td>13.9</td>\n      <td>9.4</td>\n      <td>19.3</td>\n      <td>1458.7</td>\n      <td>14.4</td>\n      <td>10.2</td>\n      <td>19.3</td>\n      <td>1559.8</td>\n    </tr>\n    <tr>\n      <th>2003</th>\n      <td>12.8</td>\n      <td>9.2</td>\n      <td>17.0</td>\n      <td>2012.0</td>\n      <td>14.3</td>\n      <td>11.2</td>\n      <td>18.5</td>\n      <td>2328.3</td>\n      <td>12.5</td>\n      <td>9.1</td>\n      <td>...</td>\n      <td>18.0</td>\n      <td>1748.9</td>\n      <td>13.6</td>\n      <td>9.5</td>\n      <td>18.4</td>\n      <td>1994.1</td>\n      <td>14.3</td>\n      <td>10.3</td>\n      <td>19.1</td>\n      <td>1864.2</td>\n    </tr>\n    <tr>\n      <th>2004</th>\n      <td>13.3</td>\n      <td>9.5</td>\n      <td>17.7</td>\n      <td>1499.1</td>\n      <td>14.9</td>\n      <td>11.5</td>\n      <td>19.3</td>\n      <td>1386.5</td>\n      <td>12.9</td>\n      <td>9.2</td>\n      <td>...</td>\n      <td>19.3</td>\n      <td>1496.5</td>\n      <td>14.3</td>\n      <td>9.8</td>\n      <td>19.8</td>\n      <td>1742.3</td>\n      <td>15.2</td>\n      <td>10.7</td>\n      <td>20.5</td>\n      <td>1250.1</td>\n    </tr>\n    <tr>\n      <th>2005</th>\n      <td>12.1</td>\n      <td>8.4</td>\n      <td>16.4</td>\n      <td>1358.4</td>\n      <td>13.8</td>\n      <td>10.5</td>\n      <td>18.1</td>\n      <td>1383.9</td>\n      <td>12.0</td>\n      <td>8.3</td>\n      <td>...</td>\n      <td>17.5</td>\n      <td>1656.1</td>\n      <td>13.6</td>\n      <td>9.4</td>\n      <td>18.7</td>\n      <td>1289.6</td>\n      <td>14.3</td>\n      <td>10.0</td>\n      <td>19.4</td>\n      <td>1135.7</td>\n    </tr>\n    <tr>\n      <th>2006</th>\n      <td>13.0</td>\n      <td>9.3</td>\n      <td>17.2</td>\n      <td>1681.9</td>\n      <td>14.7</td>\n      <td>11.4</td>\n      <td>18.9</td>\n      <td>1528.3</td>\n      <td>12.7</td>\n      <td>9.4</td>\n      <td>...</td>\n      <td>18.3</td>\n      <td>1195.2</td>\n      <td>14.2</td>\n      <td>10.0</td>\n      <td>19.2</td>\n      <td>1520.2</td>\n      <td>14.6</td>\n      <td>10.4</td>\n      <td>19.6</td>\n      <td>1393.9</td>\n    </tr>\n    <tr>\n      <th>2007</th>\n      <td>13.3</td>\n      <td>9.7</td>\n      <td>17.5</td>\n      <td>1212.3</td>\n      <td>15.3</td>\n      <td>12.4</td>\n      <td>19.1</td>\n      <td>1276.5</td>\n      <td>12.9</td>\n      <td>9.9</td>\n      <td>...</td>\n      <td>18.4</td>\n      <td>1750.9</td>\n      <td>14.6</td>\n      <td>10.6</td>\n      <td>19.6</td>\n      <td>1620.6</td>\n      <td>15.0</td>\n      <td>10.8</td>\n      <td>19.9</td>\n      <td>1135.8</td>\n    </tr>\n    <tr>\n      <th>2008</th>\n      <td>12.9</td>\n      <td>9.1</td>\n      <td>17.3</td>\n      <td>1356.3</td>\n      <td>15.0</td>\n      <td>12.0</td>\n      <td>18.8</td>\n      <td>1168.3</td>\n      <td>12.8</td>\n      <td>9.5</td>\n      <td>...</td>\n      <td>18.3</td>\n      <td>1037.6</td>\n      <td>14.6</td>\n      <td>10.4</td>\n      <td>19.8</td>\n      <td>1007.2</td>\n      <td>14.2</td>\n      <td>10.0</td>\n      <td>19.3</td>\n      <td>1112.3</td>\n    </tr>\n    <tr>\n      <th>2009</th>\n      <td>12.9</td>\n      <td>9.1</td>\n      <td>17.2</td>\n      <td>1564.0</td>\n      <td>15.2</td>\n      <td>12.1</td>\n      <td>19.2</td>\n      <td>1772.9</td>\n      <td>12.6</td>\n      <td>9.4</td>\n      <td>...</td>\n      <td>18.2</td>\n      <td>1090.4</td>\n      <td>14.6</td>\n      <td>10.2</td>\n      <td>20.1</td>\n      <td>1488.2</td>\n      <td>14.3</td>\n      <td>10.0</td>\n      <td>19.5</td>\n      <td>1133.2</td>\n    </tr>\n    <tr>\n      <th>2010</th>\n      <td>12.1</td>\n      <td>8.5</td>\n      <td>16.3</td>\n      <td>2043.5</td>\n      <td>14.9</td>\n      <td>11.7</td>\n      <td>19.0</td>\n      <td>1441.9</td>\n      <td>12.3</td>\n      <td>9.1</td>\n      <td>...</td>\n      <td>17.7</td>\n      <td>1419.7</td>\n      <td>14.2</td>\n      <td>10.1</td>\n      <td>19.2</td>\n      <td>1573.1</td>\n      <td>14.0</td>\n      <td>9.7</td>\n      <td>19.2</td>\n      <td>1161.6</td>\n    </tr>\n    <tr>\n      <th>2011</th>\n      <td>12.0</td>\n      <td>8.4</td>\n      <td>16.4</td>\n      <td>2039.3</td>\n      <td>14.6</td>\n      <td>11.3</td>\n      <td>18.8</td>\n      <td>1478.6</td>\n      <td>12.0</td>\n      <td>9.0</td>\n      <td>...</td>\n      <td>17.6</td>\n      <td>1943.4</td>\n      <td>13.7</td>\n      <td>9.5</td>\n      <td>19.0</td>\n      <td>1300.3</td>\n      <td>13.7</td>\n      <td>9.4</td>\n      <td>18.8</td>\n      <td>1233.2</td>\n    </tr>\n    <tr>\n      <th>2012</th>\n      <td>12.2</td>\n      <td>8.5</td>\n      <td>16.7</td>\n      <td>1646.3</td>\n      <td>14.5</td>\n      <td>11.3</td>\n      <td>18.6</td>\n      <td>1983.3</td>\n      <td>12.1</td>\n      <td>8.8</td>\n      <td>...</td>\n      <td>17.6</td>\n      <td>1409.5</td>\n      <td>13.7</td>\n      <td>9.5</td>\n      <td>18.9</td>\n      <td>1626.8</td>\n      <td>13.7</td>\n      <td>9.6</td>\n      <td>18.7</td>\n      <td>1458.1</td>\n    </tr>\n    <tr>\n      <th>2013</th>\n      <td>12.5</td>\n      <td>8.7</td>\n      <td>16.9</td>\n      <td>1403.8</td>\n      <td>15.3</td>\n      <td>11.8</td>\n      <td>19.5</td>\n      <td>1130.1</td>\n      <td>11.9</td>\n      <td>8.7</td>\n      <td>...</td>\n      <td>18.3</td>\n      <td>1120.2</td>\n      <td>14.2</td>\n      <td>9.8</td>\n      <td>19.6</td>\n      <td>1245.4</td>\n      <td>14.8</td>\n      <td>10.3</td>\n      <td>20.2</td>\n      <td>858.3</td>\n    </tr>\n    <tr>\n      <th>2014</th>\n      <td>13.4</td>\n      <td>9.3</td>\n      <td>18.3</td>\n      <td>808.9</td>\n      <td>15.1</td>\n      <td>12.0</td>\n      <td>19.2</td>\n      <td>1693.1</td>\n      <td>12.8</td>\n      <td>9.6</td>\n      <td>...</td>\n      <td>18.9</td>\n      <td>1117.7</td>\n      <td>14.3</td>\n      <td>10.0</td>\n      <td>19.7</td>\n      <td>1290.3</td>\n      <td>14.7</td>\n      <td>10.6</td>\n      <td>19.7</td>\n      <td>1398.7</td>\n    </tr>\n    <tr>\n      <th>2015</th>\n      <td>13.6</td>\n      <td>9.3</td>\n      <td>18.7</td>\n      <td>792.1</td>\n      <td>15.4</td>\n      <td>12.2</td>\n      <td>19.5</td>\n      <td>1396.7</td>\n      <td>13.1</td>\n      <td>9.9</td>\n      <td>...</td>\n      <td>19.4</td>\n      <td>822.7</td>\n      <td>14.6</td>\n      <td>10.4</td>\n      <td>19.8</td>\n      <td>1049.6</td>\n      <td>15.0</td>\n      <td>10.8</td>\n      <td>19.8</td>\n      <td>1044.6</td>\n    </tr>\n    <tr>\n      <th>2016</th>\n      <td>13.6</td>\n      <td>9.4</td>\n      <td>18.5</td>\n      <td>991.7</td>\n      <td>15.7</td>\n      <td>12.5</td>\n      <td>19.8</td>\n      <td>1760.2</td>\n      <td>13.3</td>\n      <td>10.0</td>\n      <td>...</td>\n      <td>19.4</td>\n      <td>1228.4</td>\n      <td>15.0</td>\n      <td>10.9</td>\n      <td>20.1</td>\n      <td>1482.3</td>\n      <td>14.8</td>\n      <td>10.8</td>\n      <td>19.4</td>\n      <td>1693.9</td>\n    </tr>\n    <tr>\n      <th>2017</th>\n      <td>13.0</td>\n      <td>8.8</td>\n      <td>18.1</td>\n      <td>1233.2</td>\n      <td>15.2</td>\n      <td>11.7</td>\n      <td>19.6</td>\n      <td>1014.4</td>\n      <td>12.5</td>\n      <td>9.3</td>\n      <td>...</td>\n      <td>18.9</td>\n      <td>1127.5</td>\n      <td>14.6</td>\n      <td>10.2</td>\n      <td>20.1</td>\n      <td>936.6</td>\n      <td>14.5</td>\n      <td>10.1</td>\n      <td>19.4</td>\n      <td>671.4</td>\n    </tr>\n    <tr>\n      <th>2018</th>\n      <td>12.9</td>\n      <td>8.8</td>\n      <td>17.9</td>\n      <td>1284.1</td>\n      <td>15.1</td>\n      <td>11.8</td>\n      <td>19.2</td>\n      <td>1778.6</td>\n      <td>12.5</td>\n      <td>9.2</td>\n      <td>...</td>\n      <td>19.0</td>\n      <td>1542.1</td>\n      <td>14.6</td>\n      <td>10.3</td>\n      <td>20.1</td>\n      <td>1427.9</td>\n      <td>14.3</td>\n      <td>10.2</td>\n      <td>19.0</td>\n      <td>1416.1</td>\n    </tr>\n    <tr>\n      <th>2019</th>\n      <td>13.5</td>\n      <td>9.3</td>\n      <td>18.5</td>\n      <td>891.3</td>\n      <td>15.7</td>\n      <td>12.5</td>\n      <td>19.8</td>\n      <td>1623.2</td>\n      <td>13.2</td>\n      <td>9.9</td>\n      <td>...</td>\n      <td>19.5</td>\n      <td>984.2</td>\n      <td>14.7</td>\n      <td>10.5</td>\n      <td>20.0</td>\n      <td>1085.9</td>\n      <td>14.9</td>\n      <td>10.7</td>\n      <td>19.7</td>\n      <td>1450.1</td>\n    </tr>\n    <tr>\n      <th>2020</th>\n      <td>13.2</td>\n      <td>9.4</td>\n      <td>17.9</td>\n      <td>1651.1</td>\n      <td>15.2</td>\n      <td>11.9</td>\n      <td>19.4</td>\n      <td>2281.6</td>\n      <td>12.8</td>\n      <td>9.8</td>\n      <td>...</td>\n      <td>19.2</td>\n      <td>1614.0</td>\n      <td>14.5</td>\n      <td>10.5</td>\n      <td>19.6</td>\n      <td>2027.0</td>\n      <td>14.6</td>\n      <td>10.6</td>\n      <td>19.3</td>\n      <td>1557.9</td>\n    </tr>\n    <tr>\n      <th>2021</th>\n      <td>13.7</td>\n      <td>9.6</td>\n      <td>18.5</td>\n      <td>1186.5</td>\n      <td>15.7</td>\n      <td>12.4</td>\n      <td>19.9</td>\n      <td>1807.8</td>\n      <td>13.4</td>\n      <td>10.0</td>\n      <td>...</td>\n      <td>19.7</td>\n      <td>1109.5</td>\n      <td>15.1</td>\n      <td>10.8</td>\n      <td>20.3</td>\n      <td>1303.8</td>\n      <td>14.9</td>\n      <td>10.8</td>\n      <td>19.6</td>\n      <td>1337.0</td>\n    </tr>\n    <tr>\n      <th>2022</th>\n      <td>13.2</td>\n      <td>9.2</td>\n      <td>18.0</td>\n      <td>1775.3</td>\n      <td>15.4</td>\n      <td>12.0</td>\n      <td>19.8</td>\n      <td>991.9</td>\n      <td>12.5</td>\n      <td>9.3</td>\n      <td>...</td>\n      <td>19.4</td>\n      <td>1203.1</td>\n      <td>14.8</td>\n      <td>10.5</td>\n      <td>20.2</td>\n      <td>769.9</td>\n      <td>14.7</td>\n      <td>10.5</td>\n      <td>19.5</td>\n      <td>926.1</td>\n    </tr>\n  </tbody>\n</table>\n<p>31 rows × 28 columns</p>\n</div>"
     },
     "execution_count": 41,
     "metadata": {},
     "output_type": "execute_result"
    }
   ],
   "source": [
    "file = 'earth.csv'\n",
    "data = pd.read_csv(file, index_col=0, header = [0, 1])\n",
    "data"
   ],
   "metadata": {
    "collapsed": false,
    "ExecuteTime": {
     "end_time": "2024-02-22T04:55:59.723333700Z",
     "start_time": "2024-02-22T04:55:59.656589700Z"
    }
   },
   "id": "99fabde2876bc094",
   "execution_count": 41
  },
  {
   "cell_type": "code",
   "outputs": [
    {
     "data": {
      "text/plain": "MultiIndex([('서울',   '평균기온(℃)'),\n            ('서울', '평균최저기온(℃)'),\n            ('서울', '평균최고기온(℃)'),\n            ('서울',   '강수량(mm)'),\n            ('부산',   '평균기온(℃)'),\n            ('부산', '평균최저기온(℃)'),\n            ('부산', '평균최고기온(℃)'),\n            ('부산',   '강수량(mm)'),\n            ('인천',   '평균기온(℃)'),\n            ('인천', '평균최저기온(℃)'),\n            ('인천', '평균최고기온(℃)'),\n            ('인천',   '강수량(mm)'),\n            ('대구',   '평균기온(℃)'),\n            ('대구', '평균최저기온(℃)'),\n            ('대구', '평균최고기온(℃)'),\n            ('대구',   '강수량(mm)'),\n            ('대전',   '평균기온(℃)'),\n            ('대전', '평균최저기온(℃)'),\n            ('대전', '평균최고기온(℃)'),\n            ('대전',   '강수량(mm)'),\n            ('광주',   '평균기온(℃)'),\n            ('광주', '평균최저기온(℃)'),\n            ('광주', '평균최고기온(℃)'),\n            ('광주',   '강수량(mm)'),\n            ('울산',   '평균기온(℃)'),\n            ('울산', '평균최저기온(℃)'),\n            ('울산', '평균최고기온(℃)'),\n            ('울산',   '강수량(mm)')],\n           )"
     },
     "execution_count": 42,
     "metadata": {},
     "output_type": "execute_result"
    }
   ],
   "source": [
    "data.columns"
   ],
   "metadata": {
    "collapsed": false,
    "ExecuteTime": {
     "end_time": "2024-02-22T04:55:59.723333700Z",
     "start_time": "2024-02-22T04:55:59.698887600Z"
    }
   },
   "id": "e921d853c1730dbb",
   "execution_count": 42
  },
  {
   "cell_type": "code",
   "outputs": [],
   "source": [
    "mean_tempDF = data.xs('평균기온(℃)', level = 1, axis = 1)"
   ],
   "metadata": {
    "collapsed": false,
    "ExecuteTime": {
     "end_time": "2024-02-22T04:55:59.724418100Z",
     "start_time": "2024-02-22T04:55:59.705069400Z"
    }
   },
   "id": "2b6972b8aae9034a",
   "execution_count": 43
  },
  {
   "cell_type": "code",
   "outputs": [
    {
     "name": "stderr",
     "output_type": "stream",
     "text": [
      "C:\\Users\\kdp\\AppData\\Local\\Temp\\ipykernel_6360\\3782590438.py:1: SettingWithCopyWarning: \n",
      "A value is trying to be set on a copy of a slice from a DataFrame.\n",
      "Try using .loc[row_indexer,col_indexer] = value instead\n",
      "\n",
      "See the caveats in the documentation: https://pandas.pydata.org/pandas-docs/stable/user_guide/indexing.html#returning-a-view-versus-a-copy\n",
      "  mean_tempDF['avg'] = mean_tempDF.mean(axis = 1).round(2)\n"
     ]
    },
    {
     "data": {
      "text/plain": "        서울    부산    인천    대구    대전    광주    울산    avg\n1992  12.5  14.8  11.9  14.1  12.8  13.7  14.2  13.43\n1993  12.0  14.0  11.5  13.4  12.3  13.1  13.1  12.77\n1994  13.5  15.6  12.9  15.2  13.8  14.6  14.8  14.34\n1995  12.2  14.5  11.7  13.9  12.3  13.4  13.7  13.10\n1996  12.2  14.5  11.6  13.7  12.1  13.2  13.7  13.00\n1997  12.9  15.2  12.1  14.5  12.8  14.1  14.5  13.73\n1998  13.8  15.8  13.1  14.9  13.6  15.0  15.1  14.47\n1999  13.2  15.0  12.6  14.3  13.0  14.3  14.4  13.83\n2000  12.7  14.9  12.7  14.2  12.4  13.5  14.3  13.53\n2001  12.8  15.3  12.8  14.8  13.1  13.8  14.6  13.89\n2002  12.9  14.7  13.1  14.1  13.3  13.9  14.4  13.77\n2003  12.8  14.3  12.5  13.8  13.2  13.6  14.3  13.50\n2004  13.3  14.9  12.9  14.8  13.9  14.3  15.2  14.19\n2005  12.1  13.8  12.0  14.2  12.4  13.6  14.3  13.20\n2006  13.0  14.7  12.7  14.6  13.1  14.2  14.6  13.84\n2007  13.3  15.3  12.9  15.0  13.3  14.6  15.0  14.20\n2008  12.9  15.0  12.8  14.6  13.0  14.6  14.2  13.87\n2009  12.9  15.2  12.6  14.8  12.8  14.6  14.3  13.89\n2010  12.1  14.9  12.3  14.4  12.7  14.2  14.0  13.51\n2011  12.0  14.6  12.0  14.3  12.6  13.7  13.7  13.27\n2012  12.2  14.5  12.1  14.1  12.6  13.7  13.7  13.27\n2013  12.5  15.3  11.9  15.0  13.1  14.2  14.8  13.83\n2014  13.4  15.1  12.8  14.9  13.4  14.3  14.7  14.09\n2015  13.6  15.4  13.1  14.8  14.0  14.6  15.0  14.36\n2016  13.6  15.7  13.3  14.6  14.0  15.0  14.8  14.43\n2017  13.0  15.2  12.5  14.4  13.4  14.6  14.5  13.94\n2018  12.9  15.1  12.5  14.1  13.5  14.6  14.3  13.86\n2019  13.5  15.7  13.2  14.8  14.0  14.7  14.9  14.40\n2020  13.2  15.2  12.8  14.5  13.7  14.5  14.6  14.07\n2021  13.7  15.7  13.4  14.6  14.3  15.1  14.9  14.53\n2022  13.2  15.4  12.5  14.7  13.5  14.8  14.7  14.11",
      "text/html": "<div>\n<style scoped>\n    .dataframe tbody tr th:only-of-type {\n        vertical-align: middle;\n    }\n\n    .dataframe tbody tr th {\n        vertical-align: top;\n    }\n\n    .dataframe thead th {\n        text-align: right;\n    }\n</style>\n<table border=\"1\" class=\"dataframe\">\n  <thead>\n    <tr style=\"text-align: right;\">\n      <th></th>\n      <th>서울</th>\n      <th>부산</th>\n      <th>인천</th>\n      <th>대구</th>\n      <th>대전</th>\n      <th>광주</th>\n      <th>울산</th>\n      <th>avg</th>\n    </tr>\n  </thead>\n  <tbody>\n    <tr>\n      <th>1992</th>\n      <td>12.5</td>\n      <td>14.8</td>\n      <td>11.9</td>\n      <td>14.1</td>\n      <td>12.8</td>\n      <td>13.7</td>\n      <td>14.2</td>\n      <td>13.43</td>\n    </tr>\n    <tr>\n      <th>1993</th>\n      <td>12.0</td>\n      <td>14.0</td>\n      <td>11.5</td>\n      <td>13.4</td>\n      <td>12.3</td>\n      <td>13.1</td>\n      <td>13.1</td>\n      <td>12.77</td>\n    </tr>\n    <tr>\n      <th>1994</th>\n      <td>13.5</td>\n      <td>15.6</td>\n      <td>12.9</td>\n      <td>15.2</td>\n      <td>13.8</td>\n      <td>14.6</td>\n      <td>14.8</td>\n      <td>14.34</td>\n    </tr>\n    <tr>\n      <th>1995</th>\n      <td>12.2</td>\n      <td>14.5</td>\n      <td>11.7</td>\n      <td>13.9</td>\n      <td>12.3</td>\n      <td>13.4</td>\n      <td>13.7</td>\n      <td>13.10</td>\n    </tr>\n    <tr>\n      <th>1996</th>\n      <td>12.2</td>\n      <td>14.5</td>\n      <td>11.6</td>\n      <td>13.7</td>\n      <td>12.1</td>\n      <td>13.2</td>\n      <td>13.7</td>\n      <td>13.00</td>\n    </tr>\n    <tr>\n      <th>1997</th>\n      <td>12.9</td>\n      <td>15.2</td>\n      <td>12.1</td>\n      <td>14.5</td>\n      <td>12.8</td>\n      <td>14.1</td>\n      <td>14.5</td>\n      <td>13.73</td>\n    </tr>\n    <tr>\n      <th>1998</th>\n      <td>13.8</td>\n      <td>15.8</td>\n      <td>13.1</td>\n      <td>14.9</td>\n      <td>13.6</td>\n      <td>15.0</td>\n      <td>15.1</td>\n      <td>14.47</td>\n    </tr>\n    <tr>\n      <th>1999</th>\n      <td>13.2</td>\n      <td>15.0</td>\n      <td>12.6</td>\n      <td>14.3</td>\n      <td>13.0</td>\n      <td>14.3</td>\n      <td>14.4</td>\n      <td>13.83</td>\n    </tr>\n    <tr>\n      <th>2000</th>\n      <td>12.7</td>\n      <td>14.9</td>\n      <td>12.7</td>\n      <td>14.2</td>\n      <td>12.4</td>\n      <td>13.5</td>\n      <td>14.3</td>\n      <td>13.53</td>\n    </tr>\n    <tr>\n      <th>2001</th>\n      <td>12.8</td>\n      <td>15.3</td>\n      <td>12.8</td>\n      <td>14.8</td>\n      <td>13.1</td>\n      <td>13.8</td>\n      <td>14.6</td>\n      <td>13.89</td>\n    </tr>\n    <tr>\n      <th>2002</th>\n      <td>12.9</td>\n      <td>14.7</td>\n      <td>13.1</td>\n      <td>14.1</td>\n      <td>13.3</td>\n      <td>13.9</td>\n      <td>14.4</td>\n      <td>13.77</td>\n    </tr>\n    <tr>\n      <th>2003</th>\n      <td>12.8</td>\n      <td>14.3</td>\n      <td>12.5</td>\n      <td>13.8</td>\n      <td>13.2</td>\n      <td>13.6</td>\n      <td>14.3</td>\n      <td>13.50</td>\n    </tr>\n    <tr>\n      <th>2004</th>\n      <td>13.3</td>\n      <td>14.9</td>\n      <td>12.9</td>\n      <td>14.8</td>\n      <td>13.9</td>\n      <td>14.3</td>\n      <td>15.2</td>\n      <td>14.19</td>\n    </tr>\n    <tr>\n      <th>2005</th>\n      <td>12.1</td>\n      <td>13.8</td>\n      <td>12.0</td>\n      <td>14.2</td>\n      <td>12.4</td>\n      <td>13.6</td>\n      <td>14.3</td>\n      <td>13.20</td>\n    </tr>\n    <tr>\n      <th>2006</th>\n      <td>13.0</td>\n      <td>14.7</td>\n      <td>12.7</td>\n      <td>14.6</td>\n      <td>13.1</td>\n      <td>14.2</td>\n      <td>14.6</td>\n      <td>13.84</td>\n    </tr>\n    <tr>\n      <th>2007</th>\n      <td>13.3</td>\n      <td>15.3</td>\n      <td>12.9</td>\n      <td>15.0</td>\n      <td>13.3</td>\n      <td>14.6</td>\n      <td>15.0</td>\n      <td>14.20</td>\n    </tr>\n    <tr>\n      <th>2008</th>\n      <td>12.9</td>\n      <td>15.0</td>\n      <td>12.8</td>\n      <td>14.6</td>\n      <td>13.0</td>\n      <td>14.6</td>\n      <td>14.2</td>\n      <td>13.87</td>\n    </tr>\n    <tr>\n      <th>2009</th>\n      <td>12.9</td>\n      <td>15.2</td>\n      <td>12.6</td>\n      <td>14.8</td>\n      <td>12.8</td>\n      <td>14.6</td>\n      <td>14.3</td>\n      <td>13.89</td>\n    </tr>\n    <tr>\n      <th>2010</th>\n      <td>12.1</td>\n      <td>14.9</td>\n      <td>12.3</td>\n      <td>14.4</td>\n      <td>12.7</td>\n      <td>14.2</td>\n      <td>14.0</td>\n      <td>13.51</td>\n    </tr>\n    <tr>\n      <th>2011</th>\n      <td>12.0</td>\n      <td>14.6</td>\n      <td>12.0</td>\n      <td>14.3</td>\n      <td>12.6</td>\n      <td>13.7</td>\n      <td>13.7</td>\n      <td>13.27</td>\n    </tr>\n    <tr>\n      <th>2012</th>\n      <td>12.2</td>\n      <td>14.5</td>\n      <td>12.1</td>\n      <td>14.1</td>\n      <td>12.6</td>\n      <td>13.7</td>\n      <td>13.7</td>\n      <td>13.27</td>\n    </tr>\n    <tr>\n      <th>2013</th>\n      <td>12.5</td>\n      <td>15.3</td>\n      <td>11.9</td>\n      <td>15.0</td>\n      <td>13.1</td>\n      <td>14.2</td>\n      <td>14.8</td>\n      <td>13.83</td>\n    </tr>\n    <tr>\n      <th>2014</th>\n      <td>13.4</td>\n      <td>15.1</td>\n      <td>12.8</td>\n      <td>14.9</td>\n      <td>13.4</td>\n      <td>14.3</td>\n      <td>14.7</td>\n      <td>14.09</td>\n    </tr>\n    <tr>\n      <th>2015</th>\n      <td>13.6</td>\n      <td>15.4</td>\n      <td>13.1</td>\n      <td>14.8</td>\n      <td>14.0</td>\n      <td>14.6</td>\n      <td>15.0</td>\n      <td>14.36</td>\n    </tr>\n    <tr>\n      <th>2016</th>\n      <td>13.6</td>\n      <td>15.7</td>\n      <td>13.3</td>\n      <td>14.6</td>\n      <td>14.0</td>\n      <td>15.0</td>\n      <td>14.8</td>\n      <td>14.43</td>\n    </tr>\n    <tr>\n      <th>2017</th>\n      <td>13.0</td>\n      <td>15.2</td>\n      <td>12.5</td>\n      <td>14.4</td>\n      <td>13.4</td>\n      <td>14.6</td>\n      <td>14.5</td>\n      <td>13.94</td>\n    </tr>\n    <tr>\n      <th>2018</th>\n      <td>12.9</td>\n      <td>15.1</td>\n      <td>12.5</td>\n      <td>14.1</td>\n      <td>13.5</td>\n      <td>14.6</td>\n      <td>14.3</td>\n      <td>13.86</td>\n    </tr>\n    <tr>\n      <th>2019</th>\n      <td>13.5</td>\n      <td>15.7</td>\n      <td>13.2</td>\n      <td>14.8</td>\n      <td>14.0</td>\n      <td>14.7</td>\n      <td>14.9</td>\n      <td>14.40</td>\n    </tr>\n    <tr>\n      <th>2020</th>\n      <td>13.2</td>\n      <td>15.2</td>\n      <td>12.8</td>\n      <td>14.5</td>\n      <td>13.7</td>\n      <td>14.5</td>\n      <td>14.6</td>\n      <td>14.07</td>\n    </tr>\n    <tr>\n      <th>2021</th>\n      <td>13.7</td>\n      <td>15.7</td>\n      <td>13.4</td>\n      <td>14.6</td>\n      <td>14.3</td>\n      <td>15.1</td>\n      <td>14.9</td>\n      <td>14.53</td>\n    </tr>\n    <tr>\n      <th>2022</th>\n      <td>13.2</td>\n      <td>15.4</td>\n      <td>12.5</td>\n      <td>14.7</td>\n      <td>13.5</td>\n      <td>14.8</td>\n      <td>14.7</td>\n      <td>14.11</td>\n    </tr>\n  </tbody>\n</table>\n</div>"
     },
     "execution_count": 44,
     "metadata": {},
     "output_type": "execute_result"
    }
   ],
   "source": [
    "mean_tempDF['avg'] = mean_tempDF.mean(axis = 1).round(2)\n",
    "mean_tempDF"
   ],
   "metadata": {
    "collapsed": false,
    "ExecuteTime": {
     "end_time": "2024-02-22T04:55:59.759900400Z",
     "start_time": "2024-02-22T04:55:59.710796200Z"
    }
   },
   "id": "8304c15f597b29f",
   "execution_count": 44
  },
  {
   "cell_type": "code",
   "outputs": [
    {
     "data": {
      "text/plain": "1992    13.43\n1993    12.77\n1994    14.34\n1995    13.10\n1996    13.00\n1997    13.73\n1998    14.47\n1999    13.83\n2000    13.53\n2001    13.89\n2002    13.77\n2003    13.50\n2004    14.19\n2005    13.20\n2006    13.84\n2007    14.20\n2008    13.87\n2009    13.89\n2010    13.51\n2011    13.27\n2012    13.27\n2013    13.83\n2014    14.09\n2015    14.36\n2016    14.43\n2017    13.94\n2018    13.86\n2019    14.40\n2020    14.07\n2021    14.53\n2022    14.11\nName: avg, dtype: float64"
     },
     "execution_count": 45,
     "metadata": {},
     "output_type": "execute_result"
    }
   ],
   "source": [
    "avg_data = mean_tempDF['avg']\n",
    "avg_data"
   ],
   "metadata": {
    "collapsed": false,
    "ExecuteTime": {
     "end_time": "2024-02-22T04:55:59.775429Z",
     "start_time": "2024-02-22T04:55:59.726315500Z"
    }
   },
   "id": "fa0ecab1d8edfdfe",
   "execution_count": 45
  },
  {
   "cell_type": "code",
   "outputs": [
    {
     "data": {
      "text/plain": "Index([1992, 1993, 1994, 1995, 1996, 1997, 1998, 1999, 2000, 2001, 2002, 2003,\n       2004, 2005, 2006, 2007, 2008, 2009, 2010, 2011, 2012, 2013, 2014, 2015,\n       2016, 2017, 2018, 2019, 2020, 2021, 2022],\n      dtype='int64')"
     },
     "execution_count": 46,
     "metadata": {},
     "output_type": "execute_result"
    }
   ],
   "source": [
    "avg_data.index"
   ],
   "metadata": {
    "collapsed": false,
    "ExecuteTime": {
     "end_time": "2024-02-22T04:55:59.775429Z",
     "start_time": "2024-02-22T04:55:59.734339800Z"
    }
   },
   "id": "773effa2aad54e51",
   "execution_count": 46
  },
  {
   "cell_type": "code",
   "outputs": [
    {
     "name": "stdout",
     "output_type": "stream",
     "text": [
      "[13.87, 13.89, 13.51, 13.27, 13.27, 13.83, 14.09, 14.36, 14.43, 13.94, 13.86]\n",
      "[2008, 2009, 2010, 2011, 2012, 2013, 2014, 2015, 2016, 2017, 2018]\n"
     ]
    }
   ],
   "source": [
    "temp_list = []\n",
    "year_list = []\n",
    "for i in range(2008, 2019):\n",
    "    temp_list.append(avg_data[i])\n",
    "for i in range(2008, 2019):\n",
    "    year_list.append(i)\n",
    "print(temp_list)\n",
    "print(year_list)\n",
    "\n",
    "sample_list = []\n",
    "sample_list.append(year_list)\n",
    "sample_list.append(temp_list)\n"
   ],
   "metadata": {
    "collapsed": false,
    "ExecuteTime": {
     "end_time": "2024-02-22T04:57:55.527586700Z",
     "start_time": "2024-02-22T04:57:55.505772Z"
    }
   },
   "id": "447baedd78799ee5",
   "execution_count": 52
  },
  {
   "cell_type": "code",
   "outputs": [
    {
     "data": {
      "text/plain": "<Figure size 640x480 with 1 Axes>",
      "image/png": "[encoded data removed]"
     },
     "metadata": {},
     "output_type": "display_data"
    }
   ],
   "source": [
    "plt.bar(year_list, temp_list)\n",
    "plt.ylim(0, 20)\n",
    "plt.xlabel('연도')\n",
    "plt.ylabel('기온')\n",
    "plt.grid()\n",
    "plt.title('연도에 따른 전국 기온의 평균')\n",
    "\n",
    "plt.show()"
   ],
   "metadata": {
    "collapsed": false,
    "ExecuteTime": {
     "end_time": "2024-02-22T05:00:29.362702600Z",
     "start_time": "2024-02-22T05:00:29.249870700Z"
    }
   },
   "id": "dae5db26f353108",
   "execution_count": 58
  },
  {
   "cell_type": "code",
   "outputs": [],
   "source": [],
   "metadata": {
    "collapsed": false,
    "ExecuteTime": {
     "end_time": "2024-02-22T04:55:59.946659800Z",
     "start_time": "2024-02-22T04:55:59.876876800Z"
    }
   },
   "id": "6488b49240050076",
   "execution_count": 48
  },
  {
   "cell_type": "code",
   "outputs": [],
   "source": [],
   "metadata": {
    "collapsed": false,
    "ExecuteTime": {
     "end_time": "2024-02-22T04:56:00.056656100Z",
     "start_time": "2024-02-22T04:55:59.946659800Z"
    }
   },
   "id": "6b59bfb14b8a4757",
   "execution_count": 48
  },
  {
   "cell_type": "code",
   "outputs": [],
   "source": [],
   "metadata": {
    "collapsed": false,
    "ExecuteTime": {
     "end_time": "2024-02-22T04:56:00.102857400Z",
     "start_time": "2024-02-22T04:56:00.028401300Z"
    }
   },
   "id": "ceee4d703d2d043f",
   "execution_count": 48
  },
  {
   "cell_type": "code",
   "outputs": [],
   "source": [],
   "metadata": {
    "collapsed": false,
    "ExecuteTime": {
     "end_time": "2024-02-22T04:56:00.129894200Z",
     "start_time": "2024-02-22T04:56:00.106730Z"
    }
   },
   "id": "6a40c06dd11ffc4a",
   "execution_count": 48
  }
 ],
 "metadata": {
  "kernelspec": {
   "display_name": "Python 3",
   "language": "python",
   "name": "python3"
  },
  "language_info": {
   "codemirror_mode": {
    "name": "ipython",
    "version": 2
   },
   "file_extension": ".py",
   "mimetype": "text/x-python",
   "name": "python",
   "nbconvert_exporter": "python",
   "pygments_lexer": "ipython2",
   "version": "2.7.6"
  }
 },
 "nbformat": 4,
 "nbformat_minor": 5
}
